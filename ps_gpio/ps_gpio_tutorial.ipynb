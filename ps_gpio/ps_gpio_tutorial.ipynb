{
 "cells": [
  {
   "cell_type": "markdown",
   "metadata": {},
   "source": [
    "# PYNQ Tutorial: PS GPIO Example \n",
    "\n",
    "This tutorial will show how to use the PYNQ GPIO class to control Zynq PS (Processing System) GPIO. The previous part of this tutorial showed how to build the hardware that will be used for this example. \n",
    "The hardware connects 15 PS GPIO outputs to *Utility Vector Logic* blocks configured as 1-bit AND, NOT OR, XOR gates, and a 4-bit AND gate. The outputs from these blocks are connected to 8 PS GPIO inputs. \n",
    "\n",
    "## Start by instantiating the Overlay "
   ]
  },
  {
   "cell_type": "code",
   "execution_count": null,
   "metadata": {},
   "outputs": [],
   "source": [
    "from pynq import Overlay\n",
    "\n",
    "ol = Overlay(\"./ps_gpio_tutorial.bit\")"
   ]
  },
  {
   "cell_type": "markdown",
   "metadata": {},
   "source": [
    "## Import the PYNQ GPIO class"
   ]
  },
  {
   "cell_type": "code",
   "execution_count": null,
   "metadata": {},
   "outputs": [],
   "source": [
    "from pynq import GPIO"
   ]
  },
  {
   "cell_type": "markdown",
   "metadata": {},
   "source": [
    "Run help to find out more about the class"
   ]
  },
  {
   "cell_type": "code",
   "execution_count": null,
   "metadata": {},
   "outputs": [],
   "source": [
    "GPIO?"
   ]
  },
  {
   "cell_type": "markdown",
   "metadata": {},
   "source": [
    "Use the get_gpio_pin() method to map the Linux GPIO index to the Zynq PS GPIO"
   ]
  },
  {
   "cell_type": "code",
   "execution_count": null,
   "metadata": {},
   "outputs": [],
   "source": [
    "GPIO.get_gpio_pin(0)"
   ]
  },
  {
   "cell_type": "markdown",
   "metadata": {},
   "source": [
    "## Generate objects for the PS GPIO outputs"
   ]
  },
  {
   "cell_type": "code",
   "execution_count": null,
   "metadata": {},
   "outputs": [],
   "source": [
    "and_op0 = GPIO(GPIO.get_gpio_pin(0), 'out')\n",
    "and_op1 = GPIO(GPIO.get_gpio_pin(1), 'out')\n",
    "not_op = GPIO(GPIO.get_gpio_pin(2), 'out')\n",
    "or_op0 = GPIO(GPIO.get_gpio_pin(3), 'out')\n",
    "or_op1 = GPIO(GPIO.get_gpio_pin(4), 'out')\n",
    "xor_op0 = GPIO(GPIO.get_gpio_pin(5), 'out')\n",
    "xor_op1 = GPIO(GPIO.get_gpio_pin(6), 'out')\n",
    "and4_op0_0 = GPIO(GPIO.get_gpio_pin(7), 'out')\n",
    "and4_op0_1 = GPIO(GPIO.get_gpio_pin(8), 'out')\n",
    "and4_op0_2 = GPIO(GPIO.get_gpio_pin(9), 'out')\n",
    "and4_op0_3 = GPIO(GPIO.get_gpio_pin(10), 'out')\n",
    "and4_op1_0 = GPIO(GPIO.get_gpio_pin(11), 'out')\n",
    "and4_op1_1 = GPIO(GPIO.get_gpio_pin(12), 'out')\n",
    "and4_op1_2 = GPIO(GPIO.get_gpio_pin(13), 'out')\n",
    "and4_op1_3 = GPIO(GPIO.get_gpio_pin(14), 'out')"
   ]
  },
  {
   "cell_type": "markdown",
   "metadata": {},
   "source": [
    "## Generate objects for the PS GPIO inputs"
   ]
  },
  {
   "cell_type": "code",
   "execution_count": null,
   "metadata": {},
   "outputs": [],
   "source": [
    "and_out = GPIO(GPIO.get_gpio_pin(15), 'in')\n",
    "not_out = GPIO(GPIO.get_gpio_pin(16), 'in')\n",
    "or_out = GPIO(GPIO.get_gpio_pin(17), 'in')\n",
    "xor_out = GPIO(GPIO.get_gpio_pin(18), 'in')\n",
    "and4_out0 = GPIO(GPIO.get_gpio_pin(19), 'in')\n",
    "and4_out1 = GPIO(GPIO.get_gpio_pin(20), 'in')\n",
    "and4_out2 = GPIO(GPIO.get_gpio_pin(21), 'in')\n",
    "and4_out3 = GPIO(GPIO.get_gpio_pin(22), 'in')"
   ]
  },
  {
   "cell_type": "markdown",
   "metadata": {},
   "source": [
    "# Test the AND gate\n",
    "Check the output first"
   ]
  },
  {
   "cell_type": "code",
   "execution_count": null,
   "metadata": {},
   "outputs": [],
   "source": [
    "and_out.read()"
   ]
  },
  {
   "cell_type": "markdown",
   "metadata": {},
   "source": [
    "Write some values to the inputs of the AND gate, and check the output again. "
   ]
  },
  {
   "cell_type": "code",
   "execution_count": null,
   "metadata": {},
   "outputs": [],
   "source": [
    "and_op0.write(1)\n",
    "and_op1.write(0)"
   ]
  },
  {
   "cell_type": "code",
   "execution_count": null,
   "metadata": {},
   "outputs": [],
   "source": [
    "and_out.read()"
   ]
  },
  {
   "cell_type": "markdown",
   "metadata": {},
   "source": [
    "You can change the values written to the op0 and op1 in the cell below and rerun the cell"
   ]
  },
  {
   "cell_type": "code",
   "execution_count": null,
   "metadata": {},
   "outputs": [],
   "source": [
    "and_op0.write(0)\n",
    "and_op1.write(0)\n",
    "and_out.read()"
   ]
  },
  {
   "cell_type": "markdown",
   "metadata": {},
   "source": [
    "# Test the NOT gate"
   ]
  },
  {
   "cell_type": "code",
   "execution_count": null,
   "metadata": {},
   "outputs": [],
   "source": [
    "not_out.read()"
   ]
  },
  {
   "cell_type": "code",
   "execution_count": null,
   "metadata": {},
   "outputs": [],
   "source": [
    "not_op.write(1)\n",
    "not_out.read()"
   ]
  },
  {
   "cell_type": "markdown",
   "metadata": {},
   "source": [
    "# Test the OR gate"
   ]
  },
  {
   "cell_type": "code",
   "execution_count": null,
   "metadata": {},
   "outputs": [],
   "source": [
    "or_op0.write(0)\n",
    "or_op1.write(0)\n",
    "or_out.read()"
   ]
  },
  {
   "cell_type": "markdown",
   "metadata": {},
   "source": [
    "# Test the XOR gate\n",
    "Build a truth table"
   ]
  },
  {
   "cell_type": "code",
   "execution_count": null,
   "metadata": {},
   "outputs": [],
   "source": [
    "print(\"XOR:\")\n",
    "print(\"| A | B | out |\")\n",
    "print(\"|-------------|\")\n",
    "for in0 in range(2):\n",
    "    for in1 in range(2):\n",
    "        xor_op0.write(in0)\n",
    "        xor_op1.write(in1)\n",
    "        result = xor_out.read()\n",
    "        print(f\"| {in0} | {in1} |  {result}  |\")"
   ]
  },
  {
   "cell_type": "markdown",
   "metadata": {},
   "source": [
    "# Test the 4-bit AND"
   ]
  },
  {
   "cell_type": "markdown",
   "metadata": {},
   "source": [
    "Create Python lists of the GPIO objects to make the code easier to follow"
   ]
  },
  {
   "cell_type": "code",
   "execution_count": null,
   "metadata": {},
   "outputs": [],
   "source": [
    "and4_op0 = [and4_op0_0, and4_op0_1, and4_op0_2, and4_op0_3]\n",
    "and4_op1 = [and4_op1_0, and4_op1_1, and4_op1_2, and4_op1_3]"
   ]
  },
  {
   "cell_type": "code",
   "execution_count": null,
   "metadata": {},
   "outputs": [],
   "source": [
    "results = [and4_out0, and4_out1, and4_out2, and4_out3]"
   ]
  },
  {
   "cell_type": "markdown",
   "metadata": {},
   "source": [
    "Create some list that will be used for the inputs"
   ]
  },
  {
   "cell_type": "code",
   "execution_count": null,
   "metadata": {},
   "outputs": [],
   "source": [
    "data0 = [0,0,0,0]\n",
    "data1 = [0,0,0,0]"
   ]
  },
  {
   "cell_type": "markdown",
   "metadata": {},
   "source": [
    "Write the data to the AND gate inputs"
   ]
  },
  {
   "cell_type": "code",
   "execution_count": null,
   "metadata": {},
   "outputs": [],
   "source": [
    "for op, data in zip(and4_op0, data0):\n",
    "    op.write(data)\n",
    "    \n",
    "for op, data in zip(and4_op1, data1):\n",
    "    op.write(data)"
   ]
  },
  {
   "cell_type": "markdown",
   "metadata": {},
   "source": [
    "Check the result"
   ]
  },
  {
   "cell_type": "code",
   "execution_count": null,
   "metadata": {},
   "outputs": [],
   "source": [
    "print(\"Result:\", [result.read() for result in results])"
   ]
  },
  {
   "cell_type": "markdown",
   "metadata": {},
   "source": [
    "Bring it all together. You can change the values in the data lists and rerun the cell"
   ]
  },
  {
   "cell_type": "code",
   "execution_count": null,
   "metadata": {},
   "outputs": [],
   "source": [
    "data0 = [1,0,1,1]\n",
    "data1 = [1,1,0,1]\n",
    "\n",
    "for op, data in zip(and4_op0, data0):\n",
    "    op.write(data)\n",
    "    \n",
    "for op, data in zip(and4_op1, data1):\n",
    "    op.write(data)\n",
    "    \n",
    "print(\"Input0:\", data0)\n",
    "print(\"Input1:\", data1)\n",
    "\n",
    "print(\"Result:\", [result.read() for result in results])"
   ]
  }
 ],
 "metadata": {
  "kernelspec": {
   "display_name": "Python 3",
   "language": "python",
   "name": "python3"
  },
  "language_info": {
   "codemirror_mode": {
    "name": "ipython",
    "version": 3
   },
   "file_extension": ".py",
   "mimetype": "text/x-python",
   "name": "python",
   "nbconvert_exporter": "python",
   "pygments_lexer": "ipython3",
   "version": "3.6.5"
  }
 },
 "nbformat": 4,
 "nbformat_minor": 4
}
